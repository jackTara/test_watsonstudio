{
    "cells": [
        {
            "cell_type": "markdown",
            "metadata": {},
            "source": "# Description"
        },
        {
            "cell_type": "code",
            "execution_count": 1,
            "metadata": {},
            "outputs": [
                {
                    "data": {
                        "text/html": "<div>\n<style scoped>\n    .dataframe tbody tr th:only-of-type {\n        vertical-align: middle;\n    }\n\n    .dataframe tbody tr th {\n        vertical-align: top;\n    }\n\n    .dataframe thead th {\n        text-align: right;\n    }\n</style>\n<table border=\"1\" class=\"dataframe\">\n  <thead>\n    <tr style=\"text-align: right;\">\n      <th></th>\n      <th>Name</th>\n      <th>Age</th>\n      <th>Score</th>\n      <th>Section</th>\n    </tr>\n  </thead>\n  <tbody>\n    <tr>\n      <th>0</th>\n      <td>Kobkiat</td>\n      <td>25</td>\n      <td>35</td>\n      <td>1</td>\n    </tr>\n    <tr>\n      <th>1</th>\n      <td>\u0e13\u0e34\u0e41\u0e19\u0e19</td>\n      <td>22</td>\n      <td>26</td>\n      <td>1</td>\n    </tr>\n    <tr>\n      <th>2</th>\n      <td>\u0e08\u0e2d\u0e2b\u0e4c\u0e19</td>\n      <td>25</td>\n      <td>32</td>\n      <td>2</td>\n    </tr>\n    <tr>\n      <th>3</th>\n      <td>Tim</td>\n      <td>35</td>\n      <td>29</td>\n      <td>2</td>\n    </tr>\n    <tr>\n      <th>4</th>\n      <td>Steal</td>\n      <td>32</td>\n      <td>27</td>\n      <td>1</td>\n    </tr>\n  </tbody>\n</table>\n</div>",
                        "text/plain": "      Name  Age  Score  Section\n0  Kobkiat   25     35        1\n1    \u0e13\u0e34\u0e41\u0e19\u0e19   22     26        1\n2    \u0e08\u0e2d\u0e2b\u0e4c\u0e19   25     32        2\n3      Tim   35     29        2\n4    Steal   32     27        1"
                    },
                    "execution_count": 1,
                    "metadata": {},
                    "output_type": "execute_result"
                }
            ],
            "source": "# The code was removed by Watson Studio for sharing."
        },
        {
            "cell_type": "code",
            "execution_count": null,
            "metadata": {},
            "outputs": [],
            "source": ""
        }
    ],
    "metadata": {
        "kernelspec": {
            "display_name": "Python 3.6",
            "language": "python",
            "name": "python3"
        },
        "language_info": {
            "codemirror_mode": {
                "name": "ipython",
                "version": 3
            },
            "file_extension": ".py",
            "mimetype": "text/x-python",
            "name": "python",
            "nbconvert_exporter": "python",
            "pygments_lexer": "ipython3",
            "version": "3.6.9"
        }
    },
    "nbformat": 4,
    "nbformat_minor": 1
}